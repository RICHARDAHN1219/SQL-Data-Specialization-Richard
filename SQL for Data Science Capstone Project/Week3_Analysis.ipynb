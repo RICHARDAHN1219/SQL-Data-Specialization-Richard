{
 "cells": [
  {
   "cell_type": "code",
   "execution_count": 3,
   "id": "817a2e58",
   "metadata": {},
   "outputs": [
    {
     "name": "stdout",
     "output_type": "stream",
     "text": [
      "importing Jupyter notebook from week1_analysis.ipynb\n",
      "<class 'pandas.core.frame.DataFrame'>\n",
      "RangeIndex: 271116 entries, 0 to 271115\n",
      "Data columns (total 15 columns):\n",
      " #   Column  Non-Null Count   Dtype  \n",
      "---  ------  --------------   -----  \n",
      " 0   ID      271116 non-null  int64  \n",
      " 1   Name    271116 non-null  object \n",
      " 2   Sex     271116 non-null  object \n",
      " 3   Age     261642 non-null  float64\n",
      " 4   Height  210945 non-null  float64\n",
      " 5   Weight  208241 non-null  float64\n",
      " 6   Team    271116 non-null  object \n",
      " 7   NOC     271116 non-null  object \n",
      " 8   Games   271116 non-null  object \n",
      " 9   Year    271116 non-null  int64  \n",
      " 10  Season  271116 non-null  object \n",
      " 11  City    271116 non-null  object \n",
      " 12  Sport   271116 non-null  object \n",
      " 13  Event   271116 non-null  object \n",
      " 14  Medal   39783 non-null   object \n",
      "dtypes: float64(3), int64(2), object(10)\n",
      "memory usage: 31.0+ MB\n",
      "Youngest Age:  10.0\n",
      "Oldest Age:  97.0\n"
     ]
    },
    {
     "data": {
      "image/png": "[encoded data removed]",
      "text/plain": [
       "<Figure size 432x288 with 1 Axes>"
      ]
     },
     "metadata": {
      "needs_background": "light"
     },
     "output_type": "display_data"
    }
   ],
   "source": [
    "import pandas as pd\n",
    "import matplotlib.pyplot as plt\n",
    "from pandasql import sqldf\n",
    "pysqldf = lambda q: sqldf(q, globals())\n",
    "\n",
    "import import_ipynb\n",
    "from week1_analysis import summer_events, winter_events"
   ]
  },
  {
   "cell_type": "code",
   "execution_count": 4,
   "id": "0d9d8752",
   "metadata": {},
   "outputs": [],
   "source": [
    "#Summer Olympics:\n",
    "summer_medal_count = pysqldf('''\n",
    "                         SELECT\n",
    "                             Year,\n",
    "                             COUNT(*) AS total_count,\n",
    "                             SUM(CASE\n",
    "                                   WHEN Medal IS NOT NULL THEN 1 ELSE 0\n",
    "                                 END) AS medal_count,\n",
    "                             SUM(CASE\n",
    "                                   WHEN Medal = \"Gold\" THEN 1 ELSE 0\n",
    "                                 END) AS gold_count,\n",
    "                             SUM(CASE\n",
    "                                   WHEN Medal = \"Silver\" THEN 1 ELSE 0\n",
    "                                 END) AS silver_count,\n",
    "                             SUM(CASE\n",
    "                                   WHEN Medal = \"Bronze\" THEN 1 ELSE 0\n",
    "                                 END) AS bronze_count\n",
    "                             FROM\n",
    "                               summer_events\n",
    "                             GROUP BY\n",
    "                               Year \n",
    "                                   ''')"
   ]
  },
  {
   "cell_type": "code",
   "execution_count": 5,
   "id": "558d170e",
   "metadata": {},
   "outputs": [],
   "source": [
    "#Winter Olympics:\n",
    "winter_medal_count = pysqldf('''\n",
    "                         SELECT\n",
    "                             Year,\n",
    "                             COUNT(*) AS total_count,\n",
    "                             SUM(CASE\n",
    "                                   WHEN Medal IS NOT NULL THEN 1 ELSE 0\n",
    "                                 END) AS medal_count,\n",
    "                             SUM(CASE\n",
    "                                   WHEN Medal = \"Gold\" THEN 1 ELSE 0\n",
    "                                 END) AS gold_count,\n",
    "                             SUM(CASE\n",
    "                                   WHEN Medal = \"Silver\" THEN 1 ELSE 0\n",
    "                                 END) AS silver_count,\n",
    "                             SUM(CASE\n",
    "                                   WHEN Medal = \"Bronze\" THEN 1 ELSE 0\n",
    "                                 END) AS bronze_count\n",
    "                             FROM\n",
    "                               winter_events\n",
    "                             GROUP BY\n",
    "                               Year \n",
    "                                   ''')"
   ]
  },
  {
   "cell_type": "markdown",
   "id": "402bd54f",
   "metadata": {},
   "source": [
    "I made two tables to count the total number of medals in the winter and summer olympics categorized by the year. I am going to calculate the correlation coefficient for the medals from both the summer and winter olympics. The summer olympics table was modified later because the winter olympics began later than the summer"
   ]
  },
  {
   "cell_type": "code",
   "execution_count": 6,
   "id": "9474f0b2",
   "metadata": {},
   "outputs": [
    {
     "name": "stdout",
     "output_type": "stream",
     "text": [
      "   Year  total_count  medal_count  gold_count  silver_count  bronze_count\n",
      "0  1896          380          143          62            43            38\n",
      "1  1900         1936          604         201           228           175\n",
      "2  1904         1301          486         173           163           150\n",
      "3  1906         1733          458         157           156           145\n",
      "4  1908         3101          831         294           281           256\n"
     ]
    }
   ],
   "source": [
    "print(summer_medal_count.head())\n"
   ]
  },
  {
   "cell_type": "code",
   "execution_count": 7,
   "id": "397af059",
   "metadata": {},
   "outputs": [
    {
     "name": "stdout",
     "output_type": "stream",
     "text": [
      "   Year  total_count  medal_count  gold_count  silver_count  bronze_count\n",
      "0  1924          460          130          55            38            37\n",
      "1  1928          582           89          30            28            31\n",
      "2  1932          352           92          32            32            28\n",
      "3  1936          895          108          36            37            35\n",
      "4  1948         1075          135          41            48            46\n"
     ]
    }
   ],
   "source": [
    "print(winter_medal_count.head())\n"
   ]
  },
  {
   "cell_type": "code",
   "execution_count": 8,
   "id": "4534d320",
   "metadata": {},
   "outputs": [
    {
     "name": "stdout",
     "output_type": "stream",
     "text": [
      "    Year  total_count  medal_count  gold_count  silver_count  bronze_count\n",
      "0   1896          380          143          62            43            38\n",
      "1   1900         1936          604         201           228           175\n",
      "2   1904         1301          486         173           163           150\n",
      "3   1906         1733          458         157           156           145\n",
      "4   1908         3101          831         294           281           256\n",
      "5   1912         4040          941         326           315           300\n",
      "6   1920         4292         1308         493           448           367\n",
      "7   1924         5233          832         277           281           274\n",
      "8   1928         4992          734         245           239           250\n",
      "9   1932         2969          647         229           214           204\n",
      "10  1936         6506          917         312           310           295\n",
      "11  1948         6405          852         289           284           279\n",
      "12  1952         8270          897         306           291           300\n",
      "13  1956         5127          893         302           293           298\n",
      "14  1960         8119          911         309           294           308\n",
      "15  1964         7702         1029         347           339           343\n",
      "16  1968         8588         1057         359           340           358\n",
      "17  1972        10304         1215         404           392           419\n",
      "18  1976         8641         1320         438           434           448\n",
      "19  1980         7191         1384         457           458           469\n",
      "20  1984         9454         1476         497           477           502\n",
      "21  1988        12037         1582         520           513           549\n",
      "22  1992        12977         1712         559           549           604\n",
      "23  1996        13780         1842         608           605           629\n",
      "24  2000        13821         2004         663           661           680\n",
      "25  2004        13443         2001         664           660           677\n",
      "26  2008        13602         2048         671           667           710\n",
      "27  2012        12920         1941         632           630           679\n",
      "28  2016        13688         2023         665           655           703\n"
     ]
    }
   ],
   "source": [
    "print(summer_medal_count)\n"
   ]
  },
  {
   "cell_type": "code",
   "execution_count": 9,
   "id": "a8136248",
   "metadata": {},
   "outputs": [],
   "source": [
    "summer_medal_count_new = summer_medal_count[7:]"
   ]
  },
  {
   "cell_type": "code",
   "execution_count": 10,
   "id": "ff309fe9",
   "metadata": {},
   "outputs": [
    {
     "name": "stdout",
     "output_type": "stream",
     "text": [
      "    Year  total_count  medal_count  gold_count  silver_count  bronze_count\n",
      "7   1924         5233          832         277           281           274\n",
      "8   1928         4992          734         245           239           250\n",
      "9   1932         2969          647         229           214           204\n",
      "10  1936         6506          917         312           310           295\n",
      "11  1948         6405          852         289           284           279\n",
      "12  1952         8270          897         306           291           300\n",
      "13  1956         5127          893         302           293           298\n",
      "14  1960         8119          911         309           294           308\n",
      "15  1964         7702         1029         347           339           343\n",
      "16  1968         8588         1057         359           340           358\n",
      "17  1972        10304         1215         404           392           419\n",
      "18  1976         8641         1320         438           434           448\n",
      "19  1980         7191         1384         457           458           469\n",
      "20  1984         9454         1476         497           477           502\n",
      "21  1988        12037         1582         520           513           549\n",
      "22  1992        12977         1712         559           549           604\n",
      "23  1996        13780         1842         608           605           629\n",
      "24  2000        13821         2004         663           661           680\n",
      "25  2004        13443         2001         664           660           677\n",
      "26  2008        13602         2048         671           667           710\n",
      "27  2012        12920         1941         632           630           679\n",
      "28  2016        13688         2023         665           655           703\n"
     ]
    }
   ],
   "source": [
    "print(summer_medal_count_new)\n"
   ]
  },
  {
   "cell_type": "code",
   "execution_count": 11,
   "id": "a4d62fd3",
   "metadata": {},
   "outputs": [],
   "source": [
    "import numpy as np"
   ]
  },
  {
   "cell_type": "code",
   "execution_count": 12,
   "id": "ea04226d",
   "metadata": {},
   "outputs": [],
   "source": [
    "x_simple = winter_medal_count.medal_count\n",
    "y_simple = summer_medal_count_new.medal_count\n",
    "my_rho = np.corrcoef(x_simple, y_simple)"
   ]
  },
  {
   "cell_type": "code",
   "execution_count": 13,
   "id": "89bffea2",
   "metadata": {},
   "outputs": [
    {
     "name": "stdout",
     "output_type": "stream",
     "text": [
      "[[1.         0.94141801]\n",
      " [0.94141801 1.        ]]\n"
     ]
    }
   ],
   "source": [
    "print(my_rho)\n"
   ]
  },
  {
   "cell_type": "markdown",
   "id": "2910e5b1",
   "metadata": {},
   "source": [
    "The coefficient is very very high and thus, there is a strong correlation between the performances in the winter and summer olympics"
   ]
  },
  {
   "cell_type": "code",
   "execution_count": 14,
   "id": "526444e4",
   "metadata": {},
   "outputs": [],
   "source": [
    "std_medal_count_summer_olympics = np.std(y_simple)\n",
    "std_medal_count_winter_olympics = np.std(x_simple)"
   ]
  },
  {
   "cell_type": "code",
   "execution_count": 15,
   "id": "47c62785",
   "metadata": {},
   "outputs": [
    {
     "name": "stdout",
     "output_type": "stream",
     "text": [
      "std_medal_count_summer_olympics = 475.323015441357\n",
      "std_medal_count_winter_olympics = 152.56899942903493\n"
     ]
    }
   ],
   "source": [
    "print(\"std_medal_count_summer_olympics =\",std_medal_count_summer_olympics)\n",
    "print(\"std_medal_count_winter_olympics =\",std_medal_count_winter_olympics)"
   ]
  },
  {
   "cell_type": "markdown",
   "id": "65e003e0",
   "metadata": {},
   "source": [
    "The standard deviation for the summer is triple of that for the winter olympics, thus the performance will change more for the summer Olympics athletes"
   ]
  },
  {
   "cell_type": "code",
   "execution_count": 16,
   "id": "345c88ec",
   "metadata": {},
   "outputs": [],
   "source": [
    "#Summer Olympics:\n",
    "summer_medal_count_age = pysqldf('''\n",
    "                         SELECT\n",
    "                             Age,\n",
    "                             COUNT(*) AS total_count,\n",
    "                             SUM(CASE\n",
    "                                   WHEN Medal IS NOT NULL THEN 1 ELSE 0\n",
    "                                 END) AS medal_count,\n",
    "                             SUM(CASE\n",
    "                                   WHEN Medal = \"Gold\" THEN 1 ELSE 0\n",
    "                                 END) AS gold_count,\n",
    "                             SUM(CASE\n",
    "                                   WHEN Medal = \"Silver\" THEN 1 ELSE 0\n",
    "                                 END) AS silver_count,\n",
    "                             SUM(CASE\n",
    "                                   WHEN Medal = \"Bronze\" THEN 1 ELSE 0\n",
    "                                 END) AS bronze_count\n",
    "                             FROM\n",
    "                               summer_events\n",
    "                             GROUP BY\n",
    "                               Age \n",
    "                                   ''')"
   ]
  },
  {
   "cell_type": "code",
   "execution_count": 17,
   "id": "94818984",
   "metadata": {},
   "outputs": [],
   "source": [
    "#Winter Olympics:\n",
    "winter_medal_count_age = pysqldf('''\n",
    "                         SELECT\n",
    "                             Age,\n",
    "                             COUNT(*) AS total_count,\n",
    "                             SUM(CASE\n",
    "                                   WHEN Medal IS NOT NULL THEN 1 ELSE 0\n",
    "                                 END) AS medal_count,\n",
    "                             SUM(CASE\n",
    "                                   WHEN Medal = \"Gold\" THEN 1 ELSE 0\n",
    "                                 END) AS gold_count,\n",
    "                             SUM(CASE\n",
    "                                   WHEN Medal = \"Silver\" THEN 1 ELSE 0\n",
    "                                 END) AS silver_count,\n",
    "                             SUM(CASE\n",
    "                                   WHEN Medal = \"Bronze\" THEN 1 ELSE 0\n",
    "                                 END) AS bronze_count\n",
    "                             FROM\n",
    "                               winter_events\n",
    "                             GROUP BY\n",
    "                               Age \n",
    "                                   ''')"
   ]
  },
  {
   "cell_type": "markdown",
   "id": "211bc9ce",
   "metadata": {},
   "source": [
    "I made two tables to count the total number of medals in the winter and summer olympics categorized by the age for the age range of 11-54. I am going to calculate the correlation coefficient for the medals from both the summer and winter olympics. The summer olympics table was modified later because the winter olympics athletes and summer athletes have different ages at which they start certain events"
   ]
  },
  {
   "cell_type": "code",
   "execution_count": 37,
   "id": "5a4794f8",
   "metadata": {},
   "outputs": [
    {
     "name": "stdout",
     "output_type": "stream",
     "text": [
      "    Age  total_count  medal_count  gold_count  silver_count  bronze_count\n",
      "0   NaN         9189          721         139           295           287\n",
      "1  10.0            1            1           0             0             1\n",
      "2  11.0            6            1           0             1             0\n",
      "3  12.0           31            6           0             3             3\n",
      "4  13.0          172           15           6             7             2\n"
     ]
    }
   ],
   "source": [
    "print(summer_medal_count_age.head())"
   ]
  },
  {
   "cell_type": "code",
   "execution_count": 38,
   "id": "931927a3",
   "metadata": {},
   "outputs": [
    {
     "name": "stdout",
     "output_type": "stream",
     "text": [
      "    Age  total_count  medal_count  gold_count  silver_count  bronze_count\n",
      "0   NaN          285           11           9             0             2\n",
      "1  11.0            7            0           0             0             0\n",
      "2  12.0            8            0           0             0             0\n",
      "3  13.0           15            1           1             0             0\n",
      "4  14.0           54            2           1             0             1\n"
     ]
    }
   ],
   "source": [
    "print(winter_medal_count_age.head())"
   ]
  },
  {
   "cell_type": "code",
   "execution_count": 39,
   "id": "d6f0e197",
   "metadata": {},
   "outputs": [
    {
     "name": "stdout",
     "output_type": "stream",
     "text": [
      "     Age  total_count  medal_count  gold_count  silver_count  bronze_count\n",
      "0    NaN         9189          721         139           295           287\n",
      "1   10.0            1            1           0             0             1\n",
      "2   11.0            6            1           0             1             0\n",
      "3   12.0           31            6           0             3             3\n",
      "4   13.0          172           15           6             7             2\n",
      "..   ...          ...          ...         ...           ...           ...\n",
      "70  81.0            2            0           0             0             0\n",
      "71  84.0            1            0           0             0             0\n",
      "72  88.0            3            0           0             0             0\n",
      "73  96.0            1            0           0             0             0\n",
      "74  97.0            1            0           0             0             0\n",
      "\n",
      "[75 rows x 6 columns]\n"
     ]
    }
   ],
   "source": [
    "print(summer_medal_count_age)"
   ]
  },
  {
   "cell_type": "code",
   "execution_count": 40,
   "id": "9ad3ec78",
   "metadata": {},
   "outputs": [
    {
     "name": "stdout",
     "output_type": "stream",
     "text": [
      "     Age  total_count  medal_count  gold_count  silver_count  bronze_count\n",
      "0    NaN          285           11           9             0             2\n",
      "1   11.0            7            0           0             0             0\n",
      "2   12.0            8            0           0             0             0\n",
      "3   13.0           15            1           1             0             0\n",
      "4   14.0           54            2           1             0             1\n",
      "5   15.0          174           18           5             7             6\n",
      "6   16.0          432           24           7            10             7\n",
      "7   17.0          802           47          16            14            17\n",
      "8   18.0         1359           90          31            24            35\n",
      "9   19.0         2089          166          43            63            60\n",
      "10  20.0         2808          252          76            81            95\n",
      "11  21.0         3645          314         100           113           101\n",
      "12  22.0         3962          407         137           125           145\n",
      "13  23.0         4354          479         162           173           144\n",
      "14  24.0         4520          521         187           175           159\n",
      "15  25.0         3974          483         170           159           154\n",
      "16  26.0         3579          460         155           150           155\n",
      "17  27.0         3320          452         151           151           150\n",
      "18  28.0         2981          427         149           132           146\n",
      "19  29.0         2338          345         118           115           112\n",
      "20  30.0         1882          286          85            95           106\n",
      "21  31.0         1480          221          73            82            66\n",
      "22  32.0         1207          168          54            63            51\n",
      "23  33.0          886          145          51            44            50\n",
      "24  34.0          624           94          39            27            28\n",
      "25  35.0          500           82          28            26            28\n",
      "26  36.0          344           44          13            12            19\n",
      "27  37.0          241           34           8            13            13\n",
      "28  38.0          190           28           7            11            10\n",
      "29  39.0          150           26          11             9             6\n",
      "30  40.0           87           11           8             1             2\n",
      "31  41.0           66           15           3             5             7\n",
      "32  42.0           36            6           1             4             1\n",
      "33  43.0           36           10           4             1             5\n",
      "34  44.0           23            4           0             3             1\n",
      "35  45.0           20            2           0             1             1\n",
      "36  46.0           25            4           2             1             1\n",
      "37  47.0           13            2           1             0             1\n",
      "38  48.0           11            2           1             0             1\n",
      "39  49.0           15            7           3             4             0\n",
      "40  50.0            3            1           0             1             0\n",
      "41  51.0            4            0           0             0             0\n",
      "42  52.0            6            1           1             0             0\n",
      "43  53.0            4            0           0             0             0\n",
      "44  54.0            2            1           1             0             0\n",
      "45  55.0            1            0           0             0             0\n",
      "46  57.0            1            1           1             0             0\n",
      "47  58.0            1            1           0             1             0\n"
     ]
    }
   ],
   "source": [
    "print(winter_medal_count_age)"
   ]
  },
  {
   "cell_type": "code",
   "execution_count": 41,
   "id": "14a3af6e",
   "metadata": {},
   "outputs": [],
   "source": [
    "summer_medal_count_age_new = summer_medal_count_age[2:46]"
   ]
  },
  {
   "cell_type": "code",
   "execution_count": 42,
   "id": "0692bd43",
   "metadata": {},
   "outputs": [
    {
     "name": "stdout",
     "output_type": "stream",
     "text": [
      "     Age  total_count  medal_count  gold_count  silver_count  bronze_count\n",
      "2   11.0            6            1           0             1             0\n",
      "3   12.0           31            6           0             3             3\n",
      "4   13.0          172           15           6             7             2\n",
      "5   14.0          783           73          26            30            17\n",
      "6   15.0         2029          178          70            60            48\n",
      "7   16.0         3420          326         109           119            98\n",
      "8   17.0         4574          487         183           149           155\n",
      "9   18.0         6793          770         249           270           251\n",
      "10  19.0         9554         1203         416           378           409\n",
      "11  20.0        12450         1752         598           557           597\n",
      "12  21.0        15519         2370         825           747           798\n",
      "13  22.0        16852         2752         959           857           936\n",
      "14  23.0        17521         2916         974           970           972\n",
      "15  24.0        17200         2768         948           873           947\n",
      "16  25.0        15733         2641         886           864           891\n",
      "17  26.0        14096         2464         821           797           846\n",
      "18  27.0        12705         2238         712           786           740\n",
      "19  28.0        11062         1908         653           654           601\n",
      "20  29.0         9125         1596         531           473           592\n",
      "21  30.0         7606         1313         442           454           417\n",
      "22  31.0         6079         1029         328           343           358\n",
      "23  32.0         5039          843         303           284           256\n",
      "24  33.0         3914          647         241           220           186\n",
      "25  34.0         3361          546         179           178           189\n",
      "26  35.0         2633          403         148           130           125\n",
      "27  36.0         2159          339         120           123            96\n",
      "28  37.0         1712          243          73            80            90\n",
      "29  38.0         1422          217          82            70            65\n",
      "30  39.0         1255          162          54            52            56\n",
      "31  40.0         1123          192          66            65            61\n",
      "32  41.0          887          126          40            46            40\n",
      "33  42.0          830          115          41            34            40\n",
      "34  43.0          757           91          28            31            32\n",
      "35  44.0          660          113          38            42            33\n",
      "36  45.0          564           73          20            26            27\n",
      "37  46.0          404           74          22            27            25\n",
      "38  47.0          395           53          23            14            16\n",
      "39  48.0          396           50          20            15            15\n",
      "40  49.0          347           42          12            11            19\n",
      "41  50.0          275           32          12            12             8\n",
      "42  51.0          195           22           4             7            11\n",
      "43  52.0          238           34          11             8            15\n",
      "44  53.0          196           19           6             8             5\n",
      "45  54.0          160           25          14             7             4\n"
     ]
    }
   ],
   "source": [
    "print(summer_medal_count_age_new)"
   ]
  },
  {
   "cell_type": "code",
   "execution_count": 43,
   "id": "7a39510f",
   "metadata": {},
   "outputs": [],
   "source": [
    "winter_medal_count_age_new = winter_medal_count_age[1:45]"
   ]
  },
  {
   "cell_type": "code",
   "execution_count": 44,
   "id": "182c58b8",
   "metadata": {},
   "outputs": [
    {
     "name": "stdout",
     "output_type": "stream",
     "text": [
      "     Age  total_count  medal_count  gold_count  silver_count  bronze_count\n",
      "1   11.0            7            0           0             0             0\n",
      "2   12.0            8            0           0             0             0\n",
      "3   13.0           15            1           1             0             0\n",
      "4   14.0           54            2           1             0             1\n",
      "5   15.0          174           18           5             7             6\n",
      "6   16.0          432           24           7            10             7\n",
      "7   17.0          802           47          16            14            17\n",
      "8   18.0         1359           90          31            24            35\n",
      "9   19.0         2089          166          43            63            60\n",
      "10  20.0         2808          252          76            81            95\n",
      "11  21.0         3645          314         100           113           101\n",
      "12  22.0         3962          407         137           125           145\n",
      "13  23.0         4354          479         162           173           144\n",
      "14  24.0         4520          521         187           175           159\n",
      "15  25.0         3974          483         170           159           154\n",
      "16  26.0         3579          460         155           150           155\n",
      "17  27.0         3320          452         151           151           150\n",
      "18  28.0         2981          427         149           132           146\n",
      "19  29.0         2338          345         118           115           112\n",
      "20  30.0         1882          286          85            95           106\n",
      "21  31.0         1480          221          73            82            66\n",
      "22  32.0         1207          168          54            63            51\n",
      "23  33.0          886          145          51            44            50\n",
      "24  34.0          624           94          39            27            28\n",
      "25  35.0          500           82          28            26            28\n",
      "26  36.0          344           44          13            12            19\n",
      "27  37.0          241           34           8            13            13\n",
      "28  38.0          190           28           7            11            10\n",
      "29  39.0          150           26          11             9             6\n",
      "30  40.0           87           11           8             1             2\n",
      "31  41.0           66           15           3             5             7\n",
      "32  42.0           36            6           1             4             1\n",
      "33  43.0           36           10           4             1             5\n",
      "34  44.0           23            4           0             3             1\n",
      "35  45.0           20            2           0             1             1\n",
      "36  46.0           25            4           2             1             1\n",
      "37  47.0           13            2           1             0             1\n",
      "38  48.0           11            2           1             0             1\n",
      "39  49.0           15            7           3             4             0\n",
      "40  50.0            3            1           0             1             0\n",
      "41  51.0            4            0           0             0             0\n",
      "42  52.0            6            1           1             0             0\n",
      "43  53.0            4            0           0             0             0\n",
      "44  54.0            2            1           1             0             0\n"
     ]
    }
   ],
   "source": [
    "print(winter_medal_count_age_new)"
   ]
  },
  {
   "cell_type": "code",
   "execution_count": 45,
   "id": "1812c50d",
   "metadata": {},
   "outputs": [],
   "source": [
    "x_simple_age = winter_medal_count_age_new.medal_count\n",
    "y_simple_age = summer_medal_count_age_new.medal_count\n",
    "my_rho_age = np.corrcoef(x_simple_age, y_simple_age)"
   ]
  },
  {
   "cell_type": "code",
   "execution_count": 46,
   "id": "c762f838",
   "metadata": {},
   "outputs": [
    {
     "name": "stdout",
     "output_type": "stream",
     "text": [
      "[[1.         0.97913386]\n",
      " [0.97913386 1.        ]]\n"
     ]
    }
   ],
   "source": [
    "print(my_rho_age)"
   ]
  },
  {
   "cell_type": "markdown",
   "id": "25066810",
   "metadata": {},
   "source": [
    "The standard deviation is .979, which indicates a very high correlation between the performance of athletes by their age for both the summer and winter olympics"
   ]
  },
  {
   "cell_type": "code",
   "execution_count": 47,
   "id": "6ed171e1",
   "metadata": {},
   "outputs": [],
   "source": [
    "std_medal_count_summer_olympics_age = np.std(y_simple_age)\n",
    "std_medal_count_winter_olympics_age = np.std(x_simple_age)"
   ]
  },
  {
   "cell_type": "code",
   "execution_count": 48,
   "id": "3ec59ddb",
   "metadata": {},
   "outputs": [
    {
     "name": "stdout",
     "output_type": "stream",
     "text": [
      "std_medal_count_summer_olympics = 937.4098356091075\n",
      "std_medal_count_winter_olympics = 170.87815846772904\n"
     ]
    }
   ],
   "source": [
    "print(\"std_medal_count_summer_olympics =\",std_medal_count_summer_olympics_age)\n",
    "print(\"std_medal_count_winter_olympics =\",std_medal_count_winter_olympics_age)"
   ]
  },
  {
   "cell_type": "markdown",
   "id": "06de1ea8",
   "metadata": {},
   "source": [
    "The standard deviation for the summer olympics is almost 9 times that of the winter olympics for the age range 11-54, so the performance changes more the older an athlete gets in the Summer Olympics"
   ]
  },
  {
   "cell_type": "markdown",
   "id": "be1051f6",
   "metadata": {},
   "source": [
    "Overall, I think there is much more changes in performance and medal counts in the Summer Olympics due to the larger number of events, number of athletes, and wider age range than that of the winter olympics which is not as large nor as old as the summer Olympics."
   ]
  },
  {
   "cell_type": "code",
   "execution_count": null,
   "id": "a0c54d34",
   "metadata": {},
   "outputs": [],
   "source": []
  }
 ],
 "metadata": {
  "kernelspec": {
   "display_name": "Python 3 (ipykernel)",
   "language": "python",
   "name": "python3"
  },
  "language_info": {
   "codemirror_mode": {
    "name": "ipython",
    "version": 3
   },
   "file_extension": ".py",
   "mimetype": "text/x-python",
   "name": "python",
   "nbconvert_exporter": "python",
   "pygments_lexer": "ipython3",
   "version": "3.10.1"
  }
 },
 "nbformat": 4,
 "nbformat_minor": 5
}
